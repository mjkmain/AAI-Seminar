{
 "cells": [
  {
   "cell_type": "code",
   "execution_count": 16,
   "id": "56e47c8a",
   "metadata": {},
   "outputs": [],
   "source": [
    "import nltk"
   ]
  },
  {
   "cell_type": "code",
   "execution_count": 17,
   "id": "136a51ec",
   "metadata": {},
   "outputs": [
    {
     "name": "stderr",
     "output_type": "stream",
     "text": [
      "[nltk_data] Downloading package wordnet to\n",
      "[nltk_data]     C:\\Users\\Administrator\\AppData\\Roaming\\nltk_data...\n",
      "[nltk_data]   Package wordnet is already up-to-date!\n"
     ]
    },
    {
     "data": {
      "text/plain": [
       "True"
      ]
     },
     "execution_count": 17,
     "metadata": {},
     "output_type": "execute_result"
    }
   ],
   "source": [
    "nltk.download('wordnet')"
   ]
  },
  {
   "cell_type": "code",
   "execution_count": 18,
   "id": "632a9776",
   "metadata": {},
   "outputs": [
    {
     "data": {
      "text/plain": [
       "[Synset('car.n.01'),\n",
       " Synset('car.n.02'),\n",
       " Synset('car.n.03'),\n",
       " Synset('car.n.04'),\n",
       " Synset('cable_car.n.01')]"
      ]
     },
     "execution_count": 18,
     "metadata": {},
     "output_type": "execute_result"
    }
   ],
   "source": [
    "#car의 동의어 그룹\n",
    "wordnet.synsets('car')"
   ]
  },
  {
   "cell_type": "code",
   "execution_count": 19,
   "id": "91573f79",
   "metadata": {},
   "outputs": [
    {
     "name": "stdout",
     "output_type": "stream",
     "text": [
      "car1:a motor vehicle with four wheels; usually propelled by an internal combustion engine\n",
      "car2:a wheeled vehicle adapted to the rails of railroad\n",
      "car3:the compartment that is suspended from an airship and that carries personnel and the cargo and the power plant\n",
      "car4:where passengers ride up and down\n"
     ]
    }
   ],
   "source": [
    "#car 동의어 그룹 원소 각각의 정의 출력\n",
    "car1 = wordnet.synset('car.n.01')\n",
    "print(f'car1:{car1.definition()}')\n",
    "car2 = wordnet.synset('car.n.02')\n",
    "print(f'car2:{car2.definition()}')\n",
    "car3 = wordnet.synset('car.n.03')\n",
    "print(f'car3:{car3.definition()}')\n",
    "car4 = wordnet.synset('car.n.04')\n",
    "print(f'car4:{car4.definition()}')"
   ]
  },
  {
   "cell_type": "code",
   "execution_count": 20,
   "id": "b3f517b9",
   "metadata": {},
   "outputs": [
    {
     "data": {
      "text/plain": [
       "['car', 'auto', 'automobile', 'machine', 'motorcar']"
      ]
     },
     "execution_count": 20,
     "metadata": {},
     "output_type": "execute_result"
    }
   ],
   "source": [
    "#car의 표제어 동의어 그룹\n",
    "car.lemma_names()"
   ]
  },
  {
   "cell_type": "code",
   "execution_count": 25,
   "id": "6ba79b44",
   "metadata": {},
   "outputs": [
    {
     "name": "stdout",
     "output_type": "stream",
     "text": [
      "car, novel:0.05555555555555555\n",
      "car, dog :0.07692307692307693\n",
      "car, motorcycle:0.3333333333333333\n"
     ]
    }
   ],
   "source": [
    "#언어 유사도\n",
    "car = wordnet.synset('car.n.01')\n",
    "novel = wordnet.synset('novel.n.01')\n",
    "dog = wordnet.synset('dog.n.01')\n",
    "motorcycle = wordnet.synset('motorcycle.n.01')\n",
    "\n",
    "print(f'car, novel:{car.path_similarity(novel)}')\n",
    "print(f'car, dog :{car.path_similarity(dog)}')\n",
    "print(f'car, motorcycle:{car.path_similarity(motorcycle)}')"
   ]
  },
  {
   "cell_type": "code",
   "execution_count": 27,
   "id": "a4181925",
   "metadata": {},
   "outputs": [
    {
     "name": "stdout",
     "output_type": "stream",
     "text": [
      "hotel, motel:0.3333333333333333\n"
     ]
    }
   ],
   "source": [
    "hotel = wordnet.synset('hotel.n.01')\n",
    "motel = wordnet.synset('motel.n.01')\n",
    "print(f'hotel, motel:{hotel.path_similarity(motel)}')"
   ]
  },
  {
   "cell_type": "code",
   "execution_count": null,
   "id": "44a8e340",
   "metadata": {},
   "outputs": [],
   "source": []
  }
 ],
 "metadata": {
  "kernelspec": {
   "display_name": "Python 3",
   "language": "python",
   "name": "python3"
  },
  "language_info": {
   "codemirror_mode": {
    "name": "ipython",
    "version": 3
   },
   "file_extension": ".py",
   "mimetype": "text/x-python",
   "name": "python",
   "nbconvert_exporter": "python",
   "pygments_lexer": "ipython3",
   "version": "3.8.8"
  }
 },
 "nbformat": 4,
 "nbformat_minor": 5
}
