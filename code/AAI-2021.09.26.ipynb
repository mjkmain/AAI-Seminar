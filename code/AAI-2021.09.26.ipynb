{
 "cells": [
  {
   "cell_type": "code",
   "execution_count": 6,
   "id": "c1ec4f60",
   "metadata": {},
   "outputs": [],
   "source": [
    "import torch\n",
    "import torch.nn as nn\n",
    "import torch.nn.functional as F\n",
    "import torch.optim as optim\n",
    "from torchvision import datasets, transforms\n",
    "\n",
    "from matplotlib import pyplot as plt\n",
    "%matplotlib inline"
   ]
  },
  {
   "cell_type": "code",
   "execution_count": 7,
   "id": "60d9b741",
   "metadata": {},
   "outputs": [
    {
     "name": "stdout",
     "output_type": "stream",
     "text": [
      "cuda\n"
     ]
    }
   ],
   "source": [
    "is_cuda = torch.cuda.is_available()\n",
    "device = torch.device('cuda' if is_cuda else 'cpu')\n",
    "\n",
    "print(device)"
   ]
  },
  {
   "cell_type": "code",
   "execution_count": 8,
   "id": "da15ae48",
   "metadata": {},
   "outputs": [],
   "source": [
    "batch_size = 50\n",
    "epoch_num = 15\n",
    "learning_rate = 1e-4"
   ]
  },
  {
   "cell_type": "code",
   "execution_count": 9,
   "id": "f534f03a",
   "metadata": {},
   "outputs": [
    {
     "name": "stdout",
     "output_type": "stream",
     "text": [
      "number of train_data :  60000\n",
      "number of test_data :  10000\n"
     ]
    },
    {
     "name": "stderr",
     "output_type": "stream",
     "text": [
      "C:\\Users\\Administrator\\anaconda3\\envs\\AAI_2021\\lib\\site-packages\\torchvision\\datasets\\mnist.py:498: UserWarning: The given NumPy array is not writeable, and PyTorch does not support non-writeable tensors. This means you can write to the underlying (supposedly non-writeable) NumPy array using the tensor. You may want to copy the array to protect its data or make it writeable before converting it to a tensor. This type of warning will be suppressed for the rest of this program. (Triggered internally at  ..\\torch\\csrc\\utils\\tensor_numpy.cpp:180.)\n",
      "  return torch.from_numpy(parsed.astype(m[2], copy=False)).view(*s)\n"
     ]
    }
   ],
   "source": [
    "train_data = datasets.MNIST(root = './data', train = True, download = True,\n",
    "                           transform = transforms.ToTensor())\n",
    "test_data = datasets.MNIST(root = './data', train = False,\n",
    "                          transform = transforms.ToTensor())\n",
    "print('number of train_data : ', len(train_data))\n",
    "print('number of test_data : ', len(test_data))"
   ]
  },
  {
   "cell_type": "code",
   "execution_count": 10,
   "id": "a1d739b7",
   "metadata": {},
   "outputs": [
    {
     "data": {
      "image/png": "[encoded data removed]",
      "text/plain": [
       "<Figure size 432x288 with 1 Axes>"
      ]
     },
     "metadata": {
      "needs_background": "light"
     },
     "output_type": "display_data"
    }
   ],
   "source": [
    "image, label = train_data[0]\n",
    "\n",
    "plt.imshow(image.squeeze().numpy(), cmap = 'gray') #squeeze : 크기가 1인 차원을 없애줌\n",
    "plt.title('label : %s' %label)\n",
    "plt.show()"
   ]
  },
  {
   "cell_type": "code",
   "execution_count": 17,
   "id": "3d9230b2",
   "metadata": {},
   "outputs": [
    {
     "name": "stdout",
     "output_type": "stream",
     "text": [
      "name            | type                      | size\n",
      "Num of batch    |                           | 1200\n",
      "first batch     | <class 'list'>            | 2\n",
      "first batch[0]  | <class 'torch.Tensor'>    | torch.Size([50, 1, 28, 28])\n",
      "first batch[1]  | <class 'torch.Tensor'>    | torch.Size([50])\n"
     ]
    }
   ],
   "source": [
    "train_loader = torch.utils.data.DataLoader(dataset = train_data,\n",
    "                                          batch_size = batch_size,\n",
    "                                          shuffle = True)\n",
    "test_loader = torch.utils.data.DataLoader(dataset = test_data,\n",
    "                                         batch_size = batch_size,\n",
    "                                         shuffle = True)\n",
    "\n",
    "first_batch = train_loader.__iter__().__next__()\n",
    "print('{:15s} | {:<25s} | {}'.format('name', 'type', 'size'))\n",
    "print('{:15s} | {:<25s} | {}'.format('Num of batch', '', len(train_loader)))\n",
    "print('{:15s} | {:<25s} | {}'.format('first batch', str(type(first_batch)), len(first_batch)))\n",
    "print('{:15s} | {:<25s} | {}'.format('first batch[0]', str(type(first_batch[0])), first_batch[0].shape))\n",
    "print('{:15s} | {:<25s} | {}'.format('first batch[1]', str(type(first_batch[1])), first_batch[1].shape))"
   ]
  },
  {
   "cell_type": "code",
   "execution_count": 18,
   "id": "41bbaa29",
   "metadata": {},
   "outputs": [],
   "source": [
    "class CNN(nn.Module): # nn.Module 클래스를 상속받는 CNN 클래스를 정의\n",
    "    def __init__(self): # __init__를 통해 모델에서 사용되는 가중치를 정의\n",
    "        super(CNN, self).__init__() # supter() 함수를 통해 nn.Module 클래스의 속성을 상속받고 초기화\n",
    "        self.conv1 = nn.Conv2d(1, 32, 3, 1) # in_channels = 1, out_channels = 32, kernel_size = 3, stride = 1\n",
    "        self.conv2 = nn.Conv2d(32, 64, 3, 1) # in_channels = 32, out_channels = 64, kernel_size = 3, stride = 1\n",
    "        self.dropout1 = nn.Dropout2d(0.25) # 0.25확률인 Dropout\n",
    "        self.dropout2 = nn.Dropout2d(0.5) # 0.5 확률인 Dropout\n",
    "        self.fc1 = nn.Linear(9216, 128) # Fully-connected Layer 9216크기인 벡터를 128 크기의 백터로 변환하는 가중치를 설계\n",
    "        self.fc2 = nn.Linear(128, 10) # Mnist의 클래스 개수인 10 크기의 벡터로 변환하는 가중치\n",
    "    \n",
    "    def forward(self, x):\n",
    "        x = self.conv1(x)\n",
    "        x = F.relu(x) # ReLU 활성 함수를 적용. 활성 함수는 단순 연산이므로. __init__에서 정의한 학습 가중치가 없음\n",
    "        x = self.conv2(x)\n",
    "        x = F.relu(x)\n",
    "        x = F.max_pool2d(x, 2) # (2x2)크기의 Filter로 Max Pooling을 적용.\n",
    "        x = self.dropout1(x)\n",
    "        x = torch.flatten(x, 1) # 고차원의 Tensor을 1차원의 벡터로 변환\n",
    "        x = self.fc1(x)\n",
    "        x = F.relu(x)\n",
    "        x = self.dropout2(x)\n",
    "        x = self.fc2(x)\n",
    "        output = F.log_softmax(x, dim = 1) # 최종 출력값으로 log-softmax를 계산, Softmax함수가 아닌, log_softmax()를 사용 하면 연산속도를 높일 수 있음\n",
    "        return output"
   ]
  },
  {
   "cell_type": "code",
   "execution_count": 19,
   "id": "442f3fc2",
   "metadata": {},
   "outputs": [],
   "source": [
    "model = CNN().to(device) # CNN 클래스를 이용해 model이라는 인스턴스를 생성. 코드 상단에 지정한 연산 장비 device를 인식\n",
    "optimizer = optim.Adam(model.parameters(), lr = learning_rate) # Adam 알고리즘의 optimizer를 지정\n",
    "criterion = nn.CrossEntropyLoss() # Cross Entropy를 손실 함수로 지정 - 다중 클래스 분류 문제이기 때문에"
   ]
  },
  {
   "cell_type": "code",
   "execution_count": 20,
   "id": "d28a4cf8",
   "metadata": {},
   "outputs": [
    {
     "name": "stdout",
     "output_type": "stream",
     "text": [
      "CNN(\n",
      "  (conv1): Conv2d(1, 32, kernel_size=(3, 3), stride=(1, 1))\n",
      "  (conv2): Conv2d(32, 64, kernel_size=(3, 3), stride=(1, 1))\n",
      "  (dropout1): Dropout2d(p=0.25, inplace=False)\n",
      "  (dropout2): Dropout2d(p=0.5, inplace=False)\n",
      "  (fc1): Linear(in_features=9216, out_features=128, bias=True)\n",
      "  (fc2): Linear(in_features=128, out_features=10, bias=True)\n",
      ")\n"
     ]
    }
   ],
   "source": [
    "print(model)"
   ]
  },
  {
   "cell_type": "code",
   "execution_count": 22,
   "id": "b5d7630a",
   "metadata": {},
   "outputs": [
    {
     "name": "stdout",
     "output_type": "stream",
     "text": [
      "Train Step: 0\tLoss: 0.027\n",
      "Train Step: 1000\tLoss: 0.007\n",
      "Train Step: 2000\tLoss: 0.073\n",
      "Train Step: 3000\tLoss: 0.014\n",
      "Train Step: 4000\tLoss: 0.008\n",
      "Train Step: 5000\tLoss: 0.007\n",
      "Train Step: 6000\tLoss: 0.003\n",
      "Train Step: 7000\tLoss: 0.005\n",
      "Train Step: 8000\tLoss: 0.021\n",
      "Train Step: 9000\tLoss: 0.009\n",
      "Train Step: 10000\tLoss: 0.007\n",
      "Train Step: 11000\tLoss: 0.003\n",
      "Train Step: 12000\tLoss: 0.062\n",
      "Train Step: 13000\tLoss: 0.001\n",
      "Train Step: 14000\tLoss: 0.056\n",
      "Train Step: 15000\tLoss: 0.006\n",
      "Train Step: 16000\tLoss: 0.007\n",
      "Train Step: 17000\tLoss: 0.020\n",
      "141.658825초 걸렸습니다.\n"
     ]
    }
   ],
   "source": [
    "model.train()\n",
    "i = 0\n",
    "import timeit\n",
    " \n",
    "start_time = timeit.default_timer() \n",
    "for epoch in range(epoch_num):\n",
    "    for data, target in train_loader:\n",
    "        data = data.to(device)     # 미니 배치의 데이터를 기존에 지정한 장비 device에 할당\n",
    "        target = target.to(device) # 미니 배치의 정답를 기존에 지정한 장비 device에 할당\n",
    "        optimizer.zero_grad() # 학습을 시작하기 전, 이전 반복 시행에서 저장된 optimizer의 Gradient를 초기화함\n",
    "        output = model(data) # Feed Forward 연산으로 결과값을 계산\n",
    "        loss = criterion(output, target) # 계산된 결과값과 실제 정답으로 손실 함수를 계산\n",
    "        loss.backward() # 손실 함수를 통해 Gradient를 계산\n",
    "        optimizer.step() # 위에서 계산된 Gradient를 통해 모델의 가중치를 업데이트 함\n",
    "        if i % 1000 == 0:\n",
    "            print('Train Step: {}\\tLoss: {:.3f}'.format(i, loss.item()))\n",
    "        i += 1\n",
    "terminate_time = timeit.default_timer()\n",
    "print(\"%f초 걸렸습니다.\" % (terminate_time - start_time)) "
   ]
  },
  {
   "cell_type": "code",
   "execution_count": 25,
   "id": "0b6de13f",
   "metadata": {},
   "outputs": [
    {
     "name": "stdout",
     "output_type": "stream",
     "text": [
      "Test set: Accuracy: 99.12%\n"
     ]
    }
   ],
   "source": [
    "model.eval() # 평가 모드를 싱행하기 위해 명시. eval() 호출하면, Dropout이 적용되지 않고 Batch-Normalization도 평가 모드로 전환\n",
    "correct = 0\n",
    "for data, target in test_loader:\n",
    "    data = data.to(device)\n",
    "    target = target.to(device)\n",
    "    output = model(data)\n",
    "    prediction = output.data.max(1)[1] # Log-Softmax 값이 가장 큰 인덱스를 예측값으로 저장\n",
    "    correct += prediction.eq(target.data).sum() # 실제 정답 예측값이 같으면 True, 다르면 False인 논리값으로 구성된 벡터를 더함.\n",
    "    # 즉, 미니 배치중 정답의 개수를 구하고 반복 시행마다 누적해서 더함\n",
    "    \n",
    "print('Test set: Accuracy: {:.2f}%'.format(100*correct/len(test_loader.dataset)))"
   ]
  },
  {
   "cell_type": "code",
   "execution_count": null,
   "id": "5c8e9247",
   "metadata": {},
   "outputs": [],
   "source": []
  }
 ],
 "metadata": {
  "kernelspec": {
   "display_name": "Python 3 (ipykernel)",
   "language": "python",
   "name": "python3"
  },
  "language_info": {
   "codemirror_mode": {
    "name": "ipython",
    "version": 3
   },
   "file_extension": ".py",
   "mimetype": "text/x-python",
   "name": "python",
   "nbconvert_exporter": "python",
   "pygments_lexer": "ipython3",
   "version": "3.8.8"
  }
 },
 "nbformat": 4,
 "nbformat_minor": 5
}
